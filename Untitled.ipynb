{
 "cells": [
  {
   "cell_type": "code",
   "execution_count": 49,
   "id": "5b9ca8bf",
   "metadata": {},
   "outputs": [
    {
     "data": {
      "text/plain": [
       "{'Afsaan': 'Boy', 'Harshita': 'Girl', 'Deepali': 'Aunt'}"
      ]
     },
     "execution_count": 49,
     "metadata": {},
     "output_type": "execute_result"
    }
   ],
   "source": [
    "a = {\"Afsaan\": \"Boy\", \"Harshita\":\"Girl\", \"Deepali\":\"Aunt\"}\n",
    "a"
   ]
  },
  {
   "cell_type": "code",
   "execution_count": 50,
   "id": "659e9585",
   "metadata": {},
   "outputs": [
    {
     "data": {
      "text/plain": [
       "['Afsaan', 'Deepali', 'Harshita']"
      ]
     },
     "execution_count": 50,
     "metadata": {},
     "output_type": "execute_result"
    }
   ],
   "source": [
    "sorted(a)"
   ]
  },
  {
   "cell_type": "code",
   "execution_count": 52,
   "id": "9fbd3f0e",
   "metadata": {},
   "outputs": [
    {
     "data": {
      "text/plain": [
       "'Boy'"
      ]
     },
     "execution_count": 52,
     "metadata": {},
     "output_type": "execute_result"
    }
   ],
   "source": [
    "a[\"Afsaan\"]"
   ]
  },
  {
   "cell_type": "code",
   "execution_count": 54,
   "id": "9947f045",
   "metadata": {},
   "outputs": [
    {
     "data": {
      "text/plain": [
       "dict_keys(['Afsaan', 'Harshita', 'Deepali'])"
      ]
     },
     "execution_count": 54,
     "metadata": {},
     "output_type": "execute_result"
    }
   ],
   "source": [
    "a.keys()"
   ]
  },
  {
   "cell_type": "code",
   "execution_count": 55,
   "id": "a7eee754",
   "metadata": {},
   "outputs": [
    {
     "data": {
      "text/plain": [
       "dict_values(['Boy', 'Girl', 'Aunt'])"
      ]
     },
     "execution_count": 55,
     "metadata": {},
     "output_type": "execute_result"
    }
   ],
   "source": [
    "a.values()"
   ]
  },
  {
   "cell_type": "code",
   "execution_count": 56,
   "id": "564e7640",
   "metadata": {},
   "outputs": [
    {
     "data": {
      "text/plain": [
       "{'Afsaan': 'Boy', 'Harshita': 'Girl', 'Deepali': 'Aunt', 'Rituala': 'Girl'}"
      ]
     },
     "execution_count": 56,
     "metadata": {},
     "output_type": "execute_result"
    }
   ],
   "source": [
    "a[\"Rituala\"] = \"Girl\"\n",
    "a"
   ]
  },
  {
   "cell_type": "code",
   "execution_count": 59,
   "id": "fc3df6c9",
   "metadata": {},
   "outputs": [
    {
     "data": {
      "text/plain": [
       "{'Afsaan': 'Boy', 'Harshita': 'Girl', 'Deepali': 'Aunt'}"
      ]
     },
     "execution_count": 59,
     "metadata": {},
     "output_type": "execute_result"
    }
   ],
   "source": [
    "del a[\"Rituala\"]\n",
    "a"
   ]
  },
  {
   "cell_type": "code",
   "execution_count": null,
   "id": "26adb70e",
   "metadata": {},
   "outputs": [],
   "source": []
  }
 ],
 "metadata": {
  "kernelspec": {
   "display_name": "Python 3 (ipykernel)",
   "language": "python",
   "name": "python3"
  },
  "language_info": {
   "codemirror_mode": {
    "name": "ipython",
    "version": 3
   },
   "file_extension": ".py",
   "mimetype": "text/x-python",
   "name": "python",
   "nbconvert_exporter": "python",
   "pygments_lexer": "ipython3",
   "version": "3.9.7"
  }
 },
 "nbformat": 4,
 "nbformat_minor": 5
}
